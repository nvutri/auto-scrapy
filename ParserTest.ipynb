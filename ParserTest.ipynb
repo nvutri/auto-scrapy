{
 "cells": [
  {
   "cell_type": "code",
   "execution_count": 456,
   "metadata": {},
   "outputs": [],
   "source": [
    "from bs4 import BeautifulSoup\n",
    "import requests\n",
    "from lxml import etree\n",
    "from lxml import html"
   ]
  },
  {
   "cell_type": "code",
   "execution_count": 472,
   "metadata": {},
   "outputs": [],
   "source": [
    "def diff_html(elem1, elem2, path=[]):\n",
    "    result = []\n",
    "    if elem1.text != elem2.text and elem1.tag != 'script':\n",
    "#         print('/'.join(path))\n",
    "        result.append('/'.join(path))\n",
    "#         print( \"Diff: [%s ] != [ %s ] \" % (elem1.text, elem2.text) )\n",
    "    for idx1, child1 in enumerate(elem1.getchildren()):\n",
    "        if not isinstance(child1, html.HtmlComment):\n",
    "            found_child2 = False\n",
    "            for child2 in elem2[ idx1:]:\n",
    "                if child1.tag == child2.tag and child1.attrib == child2.attrib:\n",
    "                    tag = child1.tag\n",
    "#                     if 'class' in child1.attrib:\n",
    "#                         tag += '[@class=\"%s\"]' % child1.attrib['class']\n",
    "                    result += diff_html(child1, child2, path + [ tag ])\n",
    "                    found_child2 = True\n",
    "                    break\n",
    "            if not found_child2:\n",
    "                for child2 in elem2[ idx1:]:\n",
    "                    if child1.tag == child2.tag:\n",
    "                        tag = child1.tag\n",
    "#                         if 'class' in child1.attrib:\n",
    "#                             tag += '[@class=\"%s\"]' % child1.attrib['class']\n",
    "                        result += diff_html(child1, child2, path + [ tag ])\n",
    "                        break\n",
    "    return result"
   ]
  },
  {
   "cell_type": "code",
   "execution_count": 261,
   "metadata": {
    "scrolled": true
   },
   "outputs": [],
   "source": [
    "def print_content(tree):\n",
    "    index = 0\n",
    "    for child in tree.getchildren():\n",
    "        print( '-- INDEX --- %s' % index)\n",
    "        if not isinstance(child, html.HtmlComment):\n",
    "            print(child.text_content())\n",
    "        index += 1"
   ]
  },
  {
   "cell_type": "code",
   "execution_count": 523,
   "metadata": {},
   "outputs": [],
   "source": [
    "# url1 = 'https://www.bbc.com/vietnamese/culture-social-45514193'\n",
    "# url2 = 'https://www.bbc.com/vietnamese/vert-cul-45653884'\n",
    "# url1 = 'https://adsplus.vn/blog/huong-da%CC%83n-cach-lam-sao-de-tang-view-tren-youtube/'\n",
    "# url2 = 'https://adsplus.vn/blog/diem-qua-dich-vu-nghe-nhac-truc-tiep-youtube-music/'\n",
    "# url1 = 'https://advertisingvietnam.com/2017/06/content-tips-89-cach-viet-noi-dung/'\n",
    "# url2 = 'https://advertisingvietnam.com/2017/03/nhung-loi-co-ban-thuong-gap-trong-copywriting/'\n",
    "# url1 = 'https://kyna.vn/bai-viet/hoc-seo-o-dau-tot-nhat-tphcm-dia-chi-tin-cay-nhat-cho-ban.html'\n",
    "# url2 = 'https://kyna.vn/bai-viet/co-the-ban-chua-biet-hoc-seo-can-kien-thuc-gi.html'\n",
    "# url1 = 'http://www.brandsvietnam.com/congdong/topic/12673-7-ly-do-tai-sao-nen-su-dung-Landing-page-cho-Quang-cao'\n",
    "# url2 = 'http://www.brandsvietnam.com/16272-Nghe-tao-anh-huong'\n",
    "url1 = 'http://vnetcom.vn/blogs/Kinh-Nghiem-Chon-Lua-doi-Tac-Thiet-Ke-Website-Uy-Tin-.html'\n",
    "url2 = 'http://vnetcom.vn/blogs/Digital-marketing-%E2%80%93-6-du-bao-cho-nam-2015.html'"
   ]
  },
  {
   "cell_type": "code",
   "execution_count": 524,
   "metadata": {},
   "outputs": [],
   "source": [
    "tree1 = html.fromstring(requests.get(url1).content)\n",
    "tree2 = html.fromstring(requests.get(url2).content)\n"
   ]
  },
  {
   "cell_type": "code",
   "execution_count": 525,
   "metadata": {
    "scrolled": true
   },
   "outputs": [
    {
     "data": {
      "text/plain": [
       "{'body/div/div/div/div/div/div/div/font/span',\n",
       " 'body/div/div/div/div/div/div/div/li/a/p',\n",
       " 'body/div/div/div/div/div/div/div/p/font',\n",
       " 'body/div/div/div/div/div/div/div/span',\n",
       " 'body/div/div/div/div/div/div/h1',\n",
       " 'head/title'}"
      ]
     },
     "execution_count": 525,
     "metadata": {},
     "output_type": "execute_result"
    }
   ],
   "source": [
    "res = diff_html(tree1, tree2)\n",
    "set(res)"
   ]
  },
  {
   "cell_type": "code",
   "execution_count": 527,
   "metadata": {
    "scrolled": false
   },
   "outputs": [
    {
     "name": "stdout",
     "output_type": "stream",
     "text": [
      "body/div/div/div/div/div/div/div/p/font\n",
      "Các mạng xã hội, diễn đàn,blog định hướng khác hàng và tạo ra chiến lược\r\n",
      "xung quanh nội dung thú vị, kịp thời sẽ mang lại hiệu quả lớn cho năm 2015. Áp\r\n",
      "lực nội dung cho các kênh Digital đang gia tăng, khách hàng sử dụng các kênh\r\n",
      "Digital nhiều hơn cho truyền thông, học tập và mua sắm. Để cạnh tranh cần phải\r\n",
      "tập trung vào xây dựng nội dung trực tuyến, tạo ra một chiến lược năng động và\r\n",
      "một nhóm tài năng để xây dưng nội dung tuyệt vời và truyền cảm hứng cho người\r\n",
      "khác.\n",
      "Digital Marketing rất linh hoạt; công ty có thể tăng quy mô của một\r\n",
      "chiến dịch Digital Marketing đang thành công, sửa đổi một chiến dịch thất bại,\r\n",
      "hoặc sao chép một chiến lược Digital Marketing thành công từ sản phẩm hay dịch\r\n",
      "vụ khác. Với khả năng theo dõi sự thành công của chiến dịch trong thời gian\r\n",
      "ngắn, công ty có thể nhanh chóng dừng lại hay thay đổi hoặc tăng cường mở rộng\r\n",
      "chiến dịch hơn bao giờ hết.\n",
      "Các công ty đang chi rất nhiều tiền để chiếm vị trí xuất hiện nhiều trên\r\n",
      "mạng, có nghĩa là họ đang thiết lập lợi thế cạnh tranh. Biết được xu hướng tìm\r\n",
      "kiếm khách hàng của bạn là chìa khóa để kết nối với họ, và nó luôn thay đổi từ\r\n",
      "các ứng dụng mới, phần mềm, và thiết bị di động sẽ ảnh hưởng đến thói quen\r\n",
      "khách hàng. Đầu tư tiền vào SEM và SEO là khiến khách hàng mua và tái mua.\n",
      "Mọi doanh nghiệp đều biết họ cần đến thị phần, mánh khóe ở đây là phải\r\n",
      "biết cách phân chia hợp lý giữa ngân sách cho Marketing truyền thống và Digital\r\n",
      "Marketing – sau đó phân bổ cho các kênh khác nhau. Hãy dùng phần lớn ngân sách\r\n",
      "tập trung vào thị trường mục tiêu nơi mà khách hàng của bạn thường xuyên trực\r\n",
      "tuyến hoặc nơi có sự hiện diện mạnh mẽ của đối thủ cạnh tranh. Chiến lược tốt\r\n",
      "nhất là thử làm một điều gì đó và theo dõi kết quả xảy ra, sau đó điều chỉnh\r\n",
      "chiến lược của bạn để tối ưu hóa tỷ lệ hoàn vốn (ROIs). Mobile Marketing đang\r\n",
      "nổi lên như một kênh Digital Marketing phát triển mạnh nhất, hãy chi cho nó ngân\r\n",
      "sách mà nó “đáng phải có” trong năm 2015.\n",
      "Khả năng thành công đi xuống do khả năng phân tích. Sẽ khá dễ dàng để\r\n",
      "theo dõi hiệu suất và đo lường ROI với lượt traffic đáng tin cậy. Những con số\r\n",
      "này chắc chắn cung cấp cho bạn một hình ảnh rõ ràng về khả năng tồn tại một\r\n",
      "chiến dịch Digital nhưng lượt traffic không phải là tất cả mọi thứ. Chỉ số này\r\n",
      "chỉ là một thang đo nhỏ trong một cộng đồng lớn, và sự cần thiết phải sâu hơn\r\n",
      "về dữ liệu và phân tích. Nếu bạn có thể phân tích số liệu và lên kế hoạch nội\r\n",
      "dung từng gian đoạn trong năm 2015, chắc chắn bạn sẽ có bước nhảy vọt so với\r\n",
      "đối thủ.\n",
      "Khi nói đến marketing bằng nội dung video, các công ty lớn chủ yếu dựa\r\n",
      "vào YouTube để lan truyền về các sản phẩm và dịch vụ của họ. Tuy nhiên, bạn\r\n",
      "không phải là lớn để tận dụng sức mạnh của video. Hầu hết những người độ tuổi\r\n",
      "18 – 44 đều có chiếc smartphone bên mình, vì thế việc truy cập vào video không\r\n",
      "còn là điều “căng não” nữa, và đó không phải còn là một yếu tố đáng để lưu tâm\r\n",
      "trong các dòng thiết bị di động.\n",
      "body/div/div/div/div/div/div/div/span\n",
      " »\n",
      " »\n",
      "Digital marketing – 6 dự báo cho năm 2015\n",
      "body/div/div/div/div/div/div/div/font/span\n",
      "Digital Marketing không phải là một con đường thẳng dễ đi, Digital Marketing tạo nên một mê cung để dẫn dắt khách hàng và khách hàng tiềm năng đến với những dịch vụ sản phẩm mà đích đến vẫn là hành vi tiêu dùng. Vạch ra chiến lược để dẫn dắt cuộc hành trình của người mua là một việc làm khá khó khăn, đặc biệt là các công cụ được \n",
      "dùng để tiếp cận khách hàng luôn thay đổi theo cách mà họ muốn thu thập thông tin nhưng mục đích – giao tiếp hiệu quả với người mua – vẫn không thay đổi.\n",
      "head/title\n",
      "Digital marketing – 6 dự báo cho năm 2015 | Vnetcom\n",
      "body/div/div/div/div/div/div/h1\n",
      "\n",
      "Digital marketing – 6 dự báo cho năm 2015\n",
      "body/div/div/div/div/div/div/div/li/a/p\n",
      "NHẬN TƯ VẤN VÀ SETUP NHÀ HÀNG CHUYÊN CUA, PHÁT TRIỂN THƯƠNG HIỆU ẨM THỰC.\n",
      "5 xu hướng marketing online trong năm 2016\n",
      "Tại sao website của bạn rớt hạng trên Google?\n",
      "Digital marketing – 6 dự báo cho năm 2015\n",
      "Gợi ý chiêu thức marketing cho thương hiệu trẻ tuổi\n",
      "Viral marketing với 5 chú ý không thể thiếu\n",
      "Influencer Marketing – hình thức tiếp thị “cứu cánh” của doanh nghiệp\n",
      "Nắm bắt các xu hướng marketing online mới nhất năm 2015 \n",
      "Xây dựng chiến dịch quảng cáo online: Những sai lầm phải tránh\n"
     ]
    }
   ],
   "source": [
    "\n",
    "for res_xpath in set(res):\n",
    "    print(res_xpath)\n",
    "    values = []\n",
    "    for elem in tree2.xpath(res_xpath):\n",
    "        if elem.text and elem.text.strip():\n",
    "            values.append(elem.text_content())\n",
    "    print('\\n'.join(values))\n",
    "#         print(etree.tostring(elem, encoding='unicode'))\n"
   ]
  },
  {
   "cell_type": "code",
   "execution_count": 464,
   "metadata": {},
   "outputs": [
    {
     "ename": "ModuleNotFoundError",
     "evalue": "No module named 'basestring'",
     "output_type": "error",
     "traceback": [
      "\u001b[0;31m---------------------------------------------------------------------------\u001b[0m",
      "\u001b[0;31mModuleNotFoundError\u001b[0m                       Traceback (most recent call last)",
      "\u001b[0;32m<ipython-input-464-1fe443fe2615>\u001b[0m in \u001b[0;36m<module>\u001b[0;34m()\u001b[0m\n\u001b[0;32m----> 1\u001b[0;31m \u001b[0;32mfrom\u001b[0m \u001b[0mbasestring\u001b[0m \u001b[0;32mimport\u001b[0m \u001b[0municode\u001b[0m\u001b[0;34m\u001b[0m\u001b[0m\n\u001b[0m",
      "\u001b[0;31mModuleNotFoundError\u001b[0m: No module named 'basestring'"
     ]
    }
   ],
   "source": [
    "from basestring import unicode"
   ]
  },
  {
   "cell_type": "code",
   "execution_count": null,
   "metadata": {},
   "outputs": [],
   "source": []
  }
 ],
 "metadata": {
  "kernelspec": {
   "display_name": "Python 3",
   "language": "python",
   "name": "python3"
  },
  "language_info": {
   "codemirror_mode": {
    "name": "ipython",
    "version": 3
   },
   "file_extension": ".py",
   "mimetype": "text/x-python",
   "name": "python",
   "nbconvert_exporter": "python",
   "pygments_lexer": "ipython3",
   "version": "3.6.5"
  }
 },
 "nbformat": 4,
 "nbformat_minor": 2
}
