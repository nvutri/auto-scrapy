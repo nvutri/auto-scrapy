{
 "cells": [
  {
   "cell_type": "code",
   "execution_count": 3,
   "metadata": {},
   "outputs": [],
   "source": [
    "from bs4 import BeautifulSoup\n",
    "import requests\n",
    "from lxml import etree \n",
    "from lxml import html"
   ]
  },
  {
   "cell_type": "code",
   "execution_count": 6,
   "metadata": {},
   "outputs": [],
   "source": [
    "def diff_html(elem1, elem2, path=[]):\n",
    "    result = []\n",
    "    if elem1.text != elem2.text and elem1.tag != 'script':\n",
    "#         print('/'.join(path))\n",
    "        result.append('/'.join(path))\n",
    "#         print( \"Diff: [%s ] != [ %s ] \" % (elem1.text, elem2.text) )\n",
    "    for idx1, child1 in enumerate(elem1.getchildren()):\n",
    "        if not isinstance(child1, html.HtmlComment):\n",
    "            found_child2 = False\n",
    "            for child2 in elem2[ idx1:]:\n",
    "                if child1.tag == child2.tag and child1.attrib == child2.attrib:\n",
    "                    tag = child1.tag\n",
    "#                     if 'class' in child1.attrib:\n",
    "#                         tag += '[@class=\"%s\"]' % child1.attrib['class']\n",
    "                    result += diff_html(child1, child2, path + [ tag ])\n",
    "                    found_child2 = True\n",
    "                    break\n",
    "            if not found_child2:\n",
    "                for child2 in elem2[ idx1:]:\n",
    "                    if child1.tag == child2.tag:\n",
    "                        tag = child1.tag\n",
    "#                         if 'class' in child1.attrib:\n",
    "#                             tag += '[@class=\"%s\"]' % child1.attrib['class']\n",
    "                        result += diff_html(child1, child2, path + [ tag ])\n",
    "                        break\n",
    "    return result"
   ]
  },
  {
   "cell_type": "code",
   "execution_count": 261,
   "metadata": {
    "scrolled": true
   },
   "outputs": [],
   "source": [
    "def print_content(tree):\n",
    "    index = 0\n",
    "    for child in tree.getchildren():\n",
    "        print( '-- INDEX --- %s' % index)\n",
    "        if not isinstance(child, html.HtmlComment):\n",
    "            print(child.text_content())\n",
    "        index += 1"
   ]
  },
  {
   "cell_type": "code",
   "execution_count": 18,
   "metadata": {},
   "outputs": [],
   "source": [
    "# url1 = 'https://www.bbc.com/vietnamese/culture-social-45514193'\n",
    "# url2 = 'https://www.bbc.com/vietnamese/vert-cul-45653884'\n",
    "# url1 = 'https://adsplus.vn/blog/huong-da%CC%83n-cach-lam-sao-de-tang-view-tren-youtube/'\n",
    "# url2 = 'https://adsplus.vn/blog/diem-qua-dich-vu-nghe-nhac-truc-tiep-youtube-music/'\n",
    "# url1 = 'https://advertisingvietnam.com/2017/06/content-tips-89-cach-viet-noi-dung/'\n",
    "# url2 = 'https://advertisingvietnam.com/2017/03/nhung-loi-co-ban-thuong-gap-trong-copywriting/'\n",
    "# url1 = 'https://kyna.vn/bai-viet/hoc-seo-o-dau-tot-nhat-tphcm-dia-chi-tin-cay-nhat-cho-ban.html'\n",
    "# url2 = 'https://kyna.vn/bai-viet/co-the-ban-chua-biet-hoc-seo-can-kien-thuc-gi.html'\n",
    "# url1 = 'http://www.brandsvietnam.com/congdong/topic/12673-7-ly-do-tai-sao-nen-su-dung-Landing-page-cho-Quang-cao'\n",
    "# url2 = 'http://www.brandsvietnam.com/16272-Nghe-tao-anh-huong'\n",
    "# url1 = 'http://vnetcom.vn/blogs/Kinh-Nghiem-Chon-Lua-doi-Tac-Thiet-Ke-Website-Uy-Tin-.html'\n",
    "# url2 = 'http://vnetcom.vn/blogs/Digital-marketing-%E2%80%93-6-du-bao-cho-nam-2015.html'\n",
    "# url1 = 'https://www.butpha.com/huong-dan-lam-influencer-marketing'\n",
    "# url2 = 'https://www.butpha.com/lo-trinh-chien-dich-influencer'\n",
    "url1 = 'http://vietnamnet.vn/vn/thoi-su/may-bay-roi-o-tam-dao-10-gio-bang-rung-tim-kiem-hai-cot-2-phi-cong-480584.html'\n",
    "url2 = 'http://vietnamnet.vn/vn/thoi-su/bao-ke-cho-long-bien-dinh-chi-pho-ban-quan-ly-dung-2-doi-boc-xep-480622.html'"
   ]
  },
  {
   "cell_type": "code",
   "execution_count": 19,
   "metadata": {},
   "outputs": [],
   "source": [
    "tree1 = html.fromstring(requests.get(url1).content)\n",
    "tree2 = html.fromstring(requests.get(url2).content)\n"
   ]
  },
  {
   "cell_type": "code",
   "execution_count": 20,
   "metadata": {
    "scrolled": true
   },
   "outputs": [
    {
     "data": {
      "text/plain": [
       "{'body/div/div/div/div/div',\n",
       " 'body/div/div/div/div/div/div/div/div/a',\n",
       " 'body/div/div/div/div/div/div/div/div/div/ul/li/h3/a',\n",
       " 'body/div/div/div/div/div/div/div/p',\n",
       " 'body/div/div/div/div/div/div/div/p/a',\n",
       " 'body/div/div/div/div/div/div/div/span',\n",
       " 'body/div/div/div/div/div/div/div/table/tbody/tr/td',\n",
       " 'body/div/div/div/div/div/div/h1',\n",
       " 'body/div/div/div/div/div/div/ul/li/h3/a',\n",
       " 'body/div/div/div/div/div/div/ul/li/h4/a',\n",
       " 'body/div/div/div/div/div/div/ul/li/h5/a',\n",
       " 'head/title'}"
      ]
     },
     "execution_count": 20,
     "metadata": {},
     "output_type": "execute_result"
    }
   ],
   "source": [
    "res = diff_html(tree1, tree2)\n",
    "set(res)"
   ]
  },
  {
   "cell_type": "code",
   "execution_count": 21,
   "metadata": {
    "scrolled": false
   },
   "outputs": [
    {
     "name": "stdout",
     "output_type": "stream",
     "text": [
      "-----------body/div/div/div/div/div/div/ul/li/h4/a--------------\n",
      "Bảo kê chợ Long Biên: Đình chỉ phó ban quản lý, dừng 2 đội bốc xếp\n",
      "Giá vàng hôm nay 1/10: USD tăng cao, chẳng ai dám mua vàng\n",
      "Đường 500 tỷ đình trệ, máy móc vùi trong núi lở\n",
      "Bố mẹ từ chối điều trị ung thư, quyết ôm con về khiến bác sĩ bất lực\n",
      "Chủ nhân giàu có của phòng trà ca nhạc nổi tiếng Hà thành xưa\n",
      "Thứ phế thải bỏ đi chế thành đặc sản: Món lừng danh Thái Lan, Việt Nam\n",
      "TP.HCM: Công bố sai phạm hơn 2.000ha đất công tại Sagri\n",
      "Giật mình bầy sâu trên đĩa mồi nhậu thơm nức của dân Việt\n",
      "Chi 12 tỷ xây nhà hỏa táng cho cỏ mọc um tùm\n",
      "-----------body/div/div/div/div/div/div/div/p--------------\n",
      "Đại tá Ngô Hồng Thái, Chính ủy Bộ chỉ huy quân sự tỉnh Thái Nguyên, Phó Ban chỉ đạo 515 - Ban tìm kiếm được UBND tỉnh thành lập từ tháng 8/2018, trực tiếp tham gia cuộc tìm kiếm chiếc Mig-21U rơi trên đỉnh núi Tam Đảo.\n",
      "Theo Đại tá Ngô Hồng Thái, cuộc tìm kiếm được chia thành nhiều giai đoạn, lực lượng tham gia mỗi đợt lên tới gần 20 người.\n",
      "Công tác trinh sát được tiến hành từ đầu tháng 8, Đại tá Thái là người trực tiếp tham gia. Sau khi khoanh khu vực tìm kiếm, lực lượng tìm kiếm phát cây mở đường, lập lán trại, chuẩn bị công tác hậu cần… \n",
      "Sáng 28/9, Ban chỉ đạo 515 quyết định khai quật. Khoảng 8h30, những di vật đầu tiên được tìm thấy.\n",
      "“Di vật đầu tiên đoàn khai quật xác định được là dây lưng, bao tay chuyên dụng. Căn cứ vào kích thước, đặc điểm của di vật, chúng tôi nhận định đây là di vật của Đại úy Yuri Poyarkov - chuyên gia huấn luyện bay người Liên Xô” - ông Thái kể.\n",
      "Mở rộng tìm kiếm, cách vị trí di vật được cho là của Đại úy Poyarkov, lực lượng tìm kiếm đã xác định được vị trí di cốt của liệt sỹ Công Phương Thảo nằm cách đó khoảng 20m\n",
      "Đến khoảng trưa ngày 29/9, việc quy tập hài cốt được cho là của 2 phi công đã hoàn tất. 13h30 cùng ngày, hài cốt được đưa về lưu giữ tại Bộ chỉ huy quân sự tỉnh Thái Nguyên.\n",
      "Lực lượng tìm kiếm cũng thu nhặt được nhiều mảnh kim loại được cho là của máy bay huấn luyện Mig-21U vẫn còn tại hiện trường. \n",
      "Những di vật đi kèm với hài cốt của 2 liệt sỹ tử nạn cũng được đưa về, gồm dây lưng, bao tay, bao súng ngắn, đế giày, một số mảnh quần áo… vẫn còn nguyên trạng.\n",
      "“Thời gian quá lâu, phần hài cốt không còn được nguyên vẹn. Vị trí máy bay bị rơi nằm ở độ cao hơn 1.200m, dốc thẳng đứng, cạnh một khe núi. Mất 10 giờ đồng hồ lội bộ, vượt núi, đoàn mới vào được hiện trường.\n",
      "Vị trí đầu máy bay đâm vào núi tạo thành hố sâu khoảng 3m, rộng khoảng 5 - 6m, có rất nhiều đất đùn sang hai bên tạo thành mô. Một số cây rừng bị máy bay va quệt vào bị gãy ngọn. Đoàn phát hiện một số mảnh nhôm nhỏ ở khe suối trên đường hành quân, một số mảnh kính vỡ vụn của máy bay, dây dù, mảnh dù, lốp máy bay.\n",
      "Có lẽ, phần thân máy bay đã bị nổ và văng xuống khe núi gần đó” - Đại tá Thái thông tin.\n",
      "Chỉ huy trưởng Bộ chỉ huy quân sự tỉnh Thái Nguyên, Đại tá Đỗ Đại Phong cho biết, hài cốt được cho là của 2 liệt sỹ trong vụ máy bay rơi 47 năm trước đã được đưa về Bộ chỉ huy quân sự tỉnh. \n",
      "Hàng ngày, Bộ chỉ huy quân sự tỉnh cử lực lượng tiêu binh canh giữ theo đúng nghi thức quân đội. Bộ chỉ huy quân sự tỉnh đã báo cáo lên Cục Tuyên huấn, Bộ Quốc phòng về sự việc.\n",
      "Hôm nay, Bộ Quốc phòng, Quân chủng Phòng không - Không quân sẽ lên làm việc để thực hiện các công việc tiếp theo.\n",
      "“Đơn vị đã báo tin cho thân nhân của liệt sỹ Công Phương Thảo. Hai người cháu của liệt sỹ Thảo đã có mặt cùng đoàn tìm kiếm. Tới đây, Bộ Quốc phòng sẽ giám định ADN mẫu vật” - Đại tá Phong cho biết.\n",
      "Trong thời gian chờ đợi kết quả giám định, việc hương khói cho 2 liệt sỹ được thực hiện theo nghi thức quân đội.\n",
      "-----------head/title--------------\n",
      "Máy bay rơi ở Tam Đảo: 10 giờ băng rừng tìm kiếm hài cốt 2 phi công \n",
      "-----------body/div/div/div/div/div/div/ul/li/h3/a--------------\n",
      "Vụ máy bay rơi ở Nghệ An: Bố mẹ thượng tá ngã quỵ khi nhận tin con hy sinh\n",
      "Đại úy phi công Việt Nam tử nạn trong vụ máy bay rơi ở Anh\n",
      "Vụ máy bay rơi: Quặn lòng nhận tin dữ về người đồng đội yêu hoa phong lan\n",
      "Vụ máy bay rơi: Tiễn đưa liệt sĩ phi công Phạm Giang Nam về với đất mẹ\n",
      "-----------body/div/div/div/div/div/div/h1--------------\n",
      "10 giờ băng rừng tìm kiếm hài cốt 2 phi công trên núi Tam Đảo\n",
      "-----------body/div/div/div/div/div/div/ul/li/h5/a--------------\n",
      "Dự báo thời tiết 1/10: Hà Nội ngày hanh khô, đêm se lạnh\n",
      "Chi 12 tỷ xây nhà hỏa táng cho cỏ mọc um tùm\n",
      "Hài cốt của 2 phi công nằm cách nhau 20m trên núi Tam Đảo\n",
      "Hai xế hộp tông nhau trực diện, đầu xe nát bét, 2 người chết\n",
      "Nhiều trường hợp sinh con thứ 3 được kết nạp Đảng\n",
      "Đến thăm nguyên Tổng bí thư Đỗ Mười\n",
      "Nữ du khách tắm biển Vũng Tàu bị sét đánh nguy kịch\n",
      "Xúc động món quà của Chủ tịch nước gửi tới mẹ già\n",
      "Cần cẩu vươn dài ra đường, 'thần chết' lơ lửng trên đầu người Sài Gòn\n",
      "Con trai Chủ tịch nước Trần Đại Quang chia sẻ tâm nguyện của cha\n",
      "Ông Lưu Bình Nhưỡng giữ chức Phó trưởng Ban Dân nguyện\n",
      "Lùm xùm SGK: Nghi ngại Nhà xuất bản Giáo dục độc quyền\n",
      "Điều động, phê chuẩn ủy viên thường trực 2 Ủy ban của QH\n",
      "Bộ trưởng Đào Ngọc Dung: Chủ tịch xã gửi con nuôi để hưởng hộ nghèo\n",
      "-----------body/div/div/div/div/div/div/div/span--------------\n",
      "01/10/2018  05:02 GMT+7\n",
      "                    \n",
      "-----------body/div/div/div/div/div/div/div/p/a--------------\n",
      "Có 4 người Việt trên máy bay rơi xuống biển\n",
      "Máy bay rơi ở Nghệ An: Nhặt mảnh vỡ cách 200m, nghi của Su-22\n",
      "phi công\n",
      "-----------body/div/div/div/div/div--------------\n",
      "\n",
      "Thời gian 01/10/2018 10:06:00 (GMT+7)\n",
      "\n",
      "-----------body/div/div/div/div/div/div/div/div/a--------------\n",
      "Siêu bão Mangkhut\n",
      "Món ngon mỗi ngày\n",
      "Tai nạn giao thông mới nhất 1/10\n",
      "Asiad 2018 - Đại hội Thể thao châu Á lần thứ 18\n",
      "Bão số 4 năm 2018\n",
      "Thông tin tuyển sinh Đại học 2018\n",
      "Vỡ đập thủy điện tại Lào\n",
      "Lũ lụt các tỉnh phía Bắc\n",
      "Thông tin mới vụ Nguyễn Thanh Hóa, Phan Văn Vĩnh\n",
      "Tin Khác\n",
      "Tin cùng chuyên mục\n",
      "Liên Hệ Quảng Cáo \n",
      "-----------body/div/div/div/div/div/div/div/table/tbody/tr/td--------------\n",
      "Tìm kiếm hài cốt của 2 liệt sỹ trong vụ máy bay rơi 47 năm trước tại đỉnh núi Tam Đảo. Ảnh: Bộ CHQS tỉnh Thái Nguyên\n",
      "Hài cốt được cho là của 2 liệt sỹ đang được lưu giữ tại Bộ chỉ huy quân sự tỉnh Thái Nguyên\n",
      "Di vật được tìm thấy trên độ cao hơn 1.200m trong vụ máy bay rơi 47 năm trước\n",
      "-----------body/div/div/div/div/div/div/div/div/div/ul/li/h3/a--------------\n",
      "bay huấn luyện\n",
      "máy bay rơi\n",
      "Mig-21U\n",
      "phi công\n",
      "máy bay rơi ở Tam Đảo\n"
     ]
    }
   ],
   "source": [
    "\n",
    "for res_xpath in set(res):\n",
    "    print('-----------%s--------------' % res_xpath)\n",
    "    values = []\n",
    "    for elem in tree1.xpath(res_xpath):\n",
    "        if elem.text and elem.text.strip():\n",
    "            values.append(elem.text_content())\n",
    "    print('\\n'.join(values))\n",
    "#         print(etree.tostring(elem, encoding='unicode'))\n"
   ]
  },
  {
   "cell_type": "code",
   "execution_count": 464,
   "metadata": {},
   "outputs": [
    {
     "ename": "ModuleNotFoundError",
     "evalue": "No module named 'basestring'",
     "output_type": "error",
     "traceback": [
      "\u001b[0;31m---------------------------------------------------------------------------\u001b[0m",
      "\u001b[0;31mModuleNotFoundError\u001b[0m                       Traceback (most recent call last)",
      "\u001b[0;32m<ipython-input-464-1fe443fe2615>\u001b[0m in \u001b[0;36m<module>\u001b[0;34m()\u001b[0m\n\u001b[0;32m----> 1\u001b[0;31m \u001b[0;32mfrom\u001b[0m \u001b[0mbasestring\u001b[0m \u001b[0;32mimport\u001b[0m \u001b[0municode\u001b[0m\u001b[0;34m\u001b[0m\u001b[0m\n\u001b[0m",
      "\u001b[0;31mModuleNotFoundError\u001b[0m: No module named 'basestring'"
     ]
    }
   ],
   "source": [
    "from basestring import unicode"
   ]
  },
  {
   "cell_type": "code",
   "execution_count": null,
   "metadata": {},
   "outputs": [],
   "source": []
  }
 ],
 "metadata": {
  "kernelspec": {
   "display_name": "Python 3",
   "language": "python",
   "name": "python3"
  },
  "language_info": {
   "codemirror_mode": {
    "name": "ipython",
    "version": 3
   },
   "file_extension": ".py",
   "mimetype": "text/x-python",
   "name": "python",
   "nbconvert_exporter": "python",
   "pygments_lexer": "ipython3",
   "version": "3.6.5"
  }
 },
 "nbformat": 4,
 "nbformat_minor": 2
}
